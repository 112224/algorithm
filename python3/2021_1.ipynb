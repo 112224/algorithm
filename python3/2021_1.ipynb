{
 "cells": [
  {
   "cell_type": "code",
   "execution_count": null,
   "metadata": {},
   "outputs": [],
   "source": [
    "#https://www.acmicpc.net/problem/17103\n",
    "#골드바흐 파티션\n",
    "#import sys\n",
    "#input = sys.stdin.readline\n",
    "\n",
    "tc = int(input())\n",
    "check = [False]*1000001\n",
    "prime = []\n",
    "for i in range(2,1000001):\n",
    "    if not check[i]:\n",
    "        prime.append(i)\n",
    "        for j in range(i*i,1000001, i):\n",
    "            check[j] = True\n",
    "\n",
    "for _ in range(tc):\n",
    "    val = int(input())\n",
    "    ans = 0\n",
    "    for pr in prime:\n",
    "        if pr > val//2:\n",
    "            break\n",
    "        else:\n",
    "            if not check[val - pr]:\n",
    "                ans += 1\n",
    "    print(ans)"
   ]
  },
  {
   "cell_type": "code",
   "execution_count": null,
   "metadata": {},
   "outputs": [],
   "source": [
    "#https://www.acmicpc.net/problem/1463\n",
    "#1로 만들기\n",
    "#import sys\n",
    "#input = sys.stdin.readline\n",
    "\n",
    "\n",
    "val = int(input())\n",
    "dp = [0]*(val+1)\n",
    "\n",
    "for i in range(2,val+1):\n",
    "    dp[i] = dp[i-1] +1 #분기 이전의 값을 하나 만들어주면 편함\n",
    "    if i%2 == 0:\n",
    "        dp[i] = min(dp[i], dp[i//2] + 1)\n",
    "    if i%3 == 0:\n",
    "        dp[i] = min(dp[i], dp[i//3] + 1)\n",
    "\n",
    "print(dp[val])"
   ]
  },
  {
   "cell_type": "code",
   "execution_count": null,
   "metadata": {},
   "outputs": [],
   "source": [
    "#https://www.acmicpc.net/problem/11726\n",
    "#2×n 타일링\n",
    "#import sys\n",
    "#input = sys.stdin.readline\n",
    "\n",
    "## n-1 (||포함) -> .....|\n",
    "## n-2 二 -> ....二\n",
    "val = int(input())\n",
    "dp = [0]*(1010)\n",
    "dp[1] = 1\n",
    "dp[2] = 2\n",
    "\n",
    "for i in range(3, val+1):\n",
    "    dp[i] = ((dp[i-1])%10007 + (dp[i-2])%10007)%10007\n",
    "\n",
    "print(dp[val])"
   ]
  },
  {
   "cell_type": "code",
   "execution_count": null,
   "metadata": {},
   "outputs": [],
   "source": [
    "#https://www.acmicpc.net/problem/11726\n",
    "#2×n 타일링\n",
    "#import sys\n",
    "#input = sys.stdin.readline\n",
    "\n",
    "## n-1 (||포함) -> .....|\n",
    "## n-2 二 or ㅁ-> ....二, ....ㅁ\n",
    "val = int(input())\n",
    "dp = [0]*(1010)\n",
    "dp[1] = 1\n",
    "dp[2] = 2\n",
    "\n",
    "for i in range(3, val+1):\n",
    "    dp[i] = ((dp[i-1])%10007 + (dp[i-2] * 2)%10007)%10007\n",
    "\n",
    "print(dp[val])"
   ]
  },
  {
   "cell_type": "code",
   "execution_count": null,
   "metadata": {},
   "outputs": [],
   "source": [
    "#https://www.acmicpc.net/problem/11727\n",
    "#2×n 타일링2\n",
    "#import sys\n",
    "#input = sys.stdin.readline\n",
    "\n",
    "\n",
    "val = int(input())\n",
    "dp = [0]*(1010)\n",
    "dp[0] = dp[1] = 1\n",
    "\n",
    "\n",
    "for i in range(2, val+1):\n",
    "    dp[i] = ((dp[i-1])%10007 + (dp[i-2] * 2)%10007)%10007\n",
    "\n",
    "print(dp[val])"
   ]
  },
  {
   "cell_type": "code",
   "execution_count": null,
   "metadata": {},
   "outputs": [],
   "source": [
    "#https://www.acmicpc.net/problem/9095\n",
    "#1, 2, 3 더하기\n",
    "import sys\n",
    "input = sys.stdin.readline\n",
    "\n",
    "dp = [0]*12\n",
    "dp[1] = 1\n",
    "dp[2] = 2\n",
    "dp[3] = 4\n",
    "\n",
    "for i in range(4,12):\n",
    "    dp[i] = dp[i-1] + dp[i-2] + dp[i-3]\n",
    "\n",
    "tc = int(input())\n",
    "for _ in range(tc):\n",
    "    val = int(input())\n",
    "    print(dp[val])"
   ]
  },
  {
   "cell_type": "code",
   "execution_count": null,
   "metadata": {},
   "outputs": [],
   "source": [
    "#https://www.acmicpc.net/problem/11052\n",
    "#카드 구매하기\n",
    "import sys\n",
    "input = sys.stdin.readline\n",
    "\n",
    "\n",
    "n = int(input())\n",
    "p = list(map(int,input().split()))\n",
    "\n",
    "dp = [0]*(n+1)\n",
    "\n",
    "for i in range(1, n+1):\n",
    "    for j in range(1, i+1):\n",
    "        dp[i] = max(dp[i], dp[i-j] + p[j-1])\n",
    "print(dp[n])"
   ]
  },
  {
   "cell_type": "code",
   "execution_count": null,
   "metadata": {},
   "outputs": [],
   "source": []
  }
 ],
 "metadata": {
  "kernelspec": {
   "display_name": "Python 3",
   "language": "python",
   "name": "python3"
  },
  "language_info": {
   "codemirror_mode": {
    "name": "ipython",
    "version": 3
   },
   "file_extension": ".py",
   "mimetype": "text/x-python",
   "name": "python",
   "nbconvert_exporter": "python",
   "pygments_lexer": "ipython3",
   "version": "3.7.6"
  }
 },
 "nbformat": 4,
 "nbformat_minor": 4
}
