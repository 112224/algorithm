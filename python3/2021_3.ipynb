{
 "cells": [
  {
   "cell_type": "code",
   "execution_count": null,
   "metadata": {},
   "outputs": [],
   "source": [
    "#https://www.acmicpc.net/problem/1935\n",
    "#후위 표기식2\n",
    "\n",
    "from collections import deque\n",
    "import bisect\n",
    "import sys\n",
    "input = sys.stdin.readline\n",
    "\n",
    "n = int(input())\n",
    "stri = input().strip()\n",
    "nums = [int(input()) for _ in range(n)]\n",
    "\n",
    "syms = ['+','-','*','/']\n",
    "\n",
    "st = []\n",
    "for ele in stri:\n",
    "    if ele not in syms:\n",
    "        st.append(nums[ord(ele)-ord('A')])\n",
    "    else:\n",
    "        e2 = st.pop()\n",
    "        e1 = st.pop()\n",
    "        if ele == '+':\n",
    "            st.append(e1 + e2)\n",
    "        elif ele =='-':\n",
    "            st.append(e1 - e2)\n",
    "        elif ele == '*':\n",
    "            st.append(e1 * e2)\n",
    "        else:\n",
    "            st.append(e1/e2)\n",
    "\n",
    "print('%.2f'%st[-1])"
   ]
  },
  {
   "cell_type": "code",
   "execution_count": null,
   "metadata": {},
   "outputs": [],
   "source": []
  }
 ],
 "metadata": {
  "kernelspec": {
   "display_name": "Python 3",
   "language": "python",
   "name": "python3"
  },
  "language_info": {
   "codemirror_mode": {
    "name": "ipython",
    "version": 3
   },
   "file_extension": ".py",
   "mimetype": "text/x-python",
   "name": "python",
   "nbconvert_exporter": "python",
   "pygments_lexer": "ipython3",
   "version": "3.7.6"
  }
 },
 "nbformat": 4,
 "nbformat_minor": 4
}
