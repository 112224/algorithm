{
 "cells": [
  {
   "cell_type": "code",
   "execution_count": 1,
   "metadata": {},
   "outputs": [
    {
     "name": "stdout",
     "output_type": "stream",
     "text": [
      "Hello world!\n"
     ]
    }
   ],
   "source": [
    "print('Hello world!')"
   ]
  },
  {
   "cell_type": "code",
   "execution_count": 7,
   "metadata": {},
   "outputs": [
    {
     "name": "stdout",
     "output_type": "stream",
     "text": [
      "2\n",
      "I am happy today\n",
      "I ma yppah yadot\n",
      "We want to win the first prize\n",
      "eW tnaw ot niw eht tsrif ezirp\n"
     ]
    }
   ],
   "source": [
    "#https://www.acmicpc.net/problem/9093\n",
    "#단어뒤집기\n",
    "\n",
    "tc = int(input())\n",
    "\n",
    "st = []\n",
    "for _ in range(tc):\n",
    "    s = input()\n",
    "    s += '\\n'\n",
    "    for token in s:\n",
    "        if token == ' ' or token =='\\n':\n",
    "            while st:\n",
    "                print(st.pop(),end='')\n",
    "            print(token,end='')\n",
    "        else:\n",
    "            st.append(token)"
   ]
  },
  {
   "cell_type": "code",
   "execution_count": 3,
   "metadata": {},
   "outputs": [
    {
     "name": "stdout",
     "output_type": "stream",
     "text": [
      "6\n",
      "(())())\n",
      "NO\n",
      "(((()())()\n",
      "NO\n",
      "(()())((()))\n",
      "YES\n",
      "((()()(()))(((())))()\n",
      "NO\n",
      "()()()()(()()())()\n",
      "YES\n",
      "(()((())()(\n",
      "NO\n"
     ]
    }
   ],
   "source": [
    "#https://www.acmicpc.net/problem/9012\n",
    "#괄호\n",
    "tc = int(input())\n",
    "\n",
    "for _ in range(tc):\n",
    "    \n",
    "    st = []\n",
    "    cnt = 0\n",
    "    s = input()\n",
    "    flag = True\n",
    "    for token in s:\n",
    "        if token == '(':\n",
    "            st.append(token)\n",
    "            cnt += 1\n",
    "        else:\n",
    "            if cnt == 0:\n",
    "                flag = False\n",
    "                break\n",
    "            else:\n",
    "                st.pop()\n",
    "                cnt -= 1\n",
    "    if flag and cnt ==0:\n",
    "        print(\"YES\")\n",
    "    else:\n",
    "        print(\"NO\")"
   ]
  },
  {
   "cell_type": "code",
   "execution_count": 19,
   "metadata": {},
   "outputs": [
    {
     "name": "stdout",
     "output_type": "stream",
     "text": [
      "5\n",
      "1\n",
      "2\n",
      "5\n",
      "3\n",
      "NO\n",
      "+\n",
      "-\n",
      "+\n",
      "-\n",
      "+\n",
      "+\n",
      "+\n",
      "-\n"
     ]
    },
    {
     "ename": "SystemExit",
     "evalue": "0",
     "output_type": "error",
     "traceback": [
      "An exception has occurred, use %tb to see the full traceback.\n",
      "\u001b[1;31mSystemExit\u001b[0m\u001b[1;31m:\u001b[0m 0\n"
     ]
    }
   ],
   "source": [
    "#https://www.acmicpc.net/problem/1874\n",
    "#스택 수열\n",
    "\n",
    "import sys\n",
    "\n",
    "n = int(input())\n",
    "st = []\n",
    "m = 0\n",
    "cnt = 0\n",
    "ans =''\n",
    "for _ in range(n):\n",
    "    x = int(input())\n",
    "    if x>m:\n",
    "        while x>m:\n",
    "            m += 1\n",
    "            st.append(m)\n",
    "            cnt += 1\n",
    "            ans += '+'\n",
    "        st.pop()\n",
    "        ans +='-'\n",
    "        cnt -= 1\n",
    "    else:\n",
    "        found = False\n",
    "        if cnt != 0:\n",
    "            if x == st[cnt-1]:\n",
    "                st.pop()\n",
    "                cnt -= 1\n",
    "                ans += '-'\n",
    "                found = True\n",
    "        if found==False:\n",
    "            print(\"NO\")\n",
    "            for token in ans:\n",
    "                print(token)\n",
    "            sys.exit(0)\n",
    "for token in ans:\n",
    "    print(token)\n",
    "        \n"
   ]
  },
  {
   "cell_type": "code",
   "execution_count": 2,
   "metadata": {},
   "outputs": [
    {
     "ename": "ValueError",
     "evalue": "invalid literal for int() with base 10: ''",
     "output_type": "error",
     "traceback": [
      "\u001b[1;31m---------------------------------------------------------------------------\u001b[0m",
      "\u001b[1;31mValueError\u001b[0m                                Traceback (most recent call last)",
      "\u001b[1;32m<ipython-input-2-fc73fc826174>\u001b[0m in \u001b[0;36m<module>\u001b[1;34m\u001b[0m\n\u001b[0;32m     10\u001b[0m     \u001b[0mst_l\u001b[0m\u001b[1;33m.\u001b[0m\u001b[0mappend\u001b[0m\u001b[1;33m(\u001b[0m\u001b[0mtoken\u001b[0m\u001b[1;33m)\u001b[0m\u001b[1;33m\u001b[0m\u001b[1;33m\u001b[0m\u001b[0m\n\u001b[0;32m     11\u001b[0m \u001b[1;33m\u001b[0m\u001b[0m\n\u001b[1;32m---> 12\u001b[1;33m \u001b[0mtc\u001b[0m \u001b[1;33m=\u001b[0m \u001b[0mint\u001b[0m\u001b[1;33m(\u001b[0m\u001b[0minput\u001b[0m\u001b[1;33m(\u001b[0m\u001b[1;33m)\u001b[0m\u001b[1;33m)\u001b[0m\u001b[1;33m\u001b[0m\u001b[1;33m\u001b[0m\u001b[0m\n\u001b[0m\u001b[0;32m     13\u001b[0m \u001b[1;32mfor\u001b[0m \u001b[0m_\u001b[0m \u001b[1;32min\u001b[0m \u001b[0mrange\u001b[0m\u001b[1;33m(\u001b[0m\u001b[0mtc\u001b[0m\u001b[1;33m)\u001b[0m\u001b[1;33m:\u001b[0m\u001b[1;33m\u001b[0m\u001b[1;33m\u001b[0m\u001b[0m\n\u001b[0;32m     14\u001b[0m     \u001b[0mcom\u001b[0m \u001b[1;33m=\u001b[0m \u001b[0minput\u001b[0m\u001b[1;33m(\u001b[0m\u001b[1;33m)\u001b[0m\u001b[1;33m\u001b[0m\u001b[1;33m\u001b[0m\u001b[0m\n",
      "\u001b[1;31mValueError\u001b[0m: invalid literal for int() with base 10: ''"
     ]
    }
   ],
   "source": [
    "#https://www.acmicpc.net/problem/1406\n",
    "#에디터\n",
    "from sys import stdin\n",
    "input = stdin.readline\n",
    "st_l = []\n",
    "st_r = []\n",
    "\n",
    "init_s = input()\n",
    "for token in init_s:\n",
    "    st_l.append(token)\n",
    "\n",
    "tc = int(input())\n",
    "for _ in range(tc):\n",
    "    com = input()\n",
    "    com = com.split()\n",
    "    if com[0] == 'L':\n",
    "        if len(st_l)>0:\n",
    "            st_r.append(st_l.pop())\n",
    "    elif com[0] == 'D':\n",
    "        if len(st_r)>0:\n",
    "            st_l.append(st_r.pop())\n",
    "    elif com[0] == 'B':\n",
    "        if len(st_l)>0:\n",
    "            st_l.pop()\n",
    "    else:\n",
    "        st_l.append(com[1])\n",
    "\n",
    "ans = \"\"\n",
    "for token in st_l:\n",
    "    ans += token\n",
    "while st_r:\n",
    "    ans+=st_r.pop()\n",
    "print(ans)"
   ]
  },
  {
   "cell_type": "code",
   "execution_count": 5,
   "metadata": {},
   "outputs": [
    {
     "ename": "IndexError",
     "evalue": "pop from empty list",
     "output_type": "error",
     "traceback": [
      "\u001b[1;31m---------------------------------------------------------------------------\u001b[0m",
      "\u001b[1;31mIndexError\u001b[0m                                Traceback (most recent call last)",
      "\u001b[1;32m<ipython-input-5-bcf032734088>\u001b[0m in \u001b[0;36m<module>\u001b[1;34m\u001b[0m\n\u001b[0;32m      1\u001b[0m \u001b[0mtmp\u001b[0m \u001b[1;33m=\u001b[0m \u001b[1;33m[\u001b[0m\u001b[1;33m]\u001b[0m\u001b[1;33m\u001b[0m\u001b[1;33m\u001b[0m\u001b[0m\n\u001b[1;32m----> 2\u001b[1;33m \u001b[0mtmp\u001b[0m\u001b[1;33m.\u001b[0m\u001b[0mpop\u001b[0m\u001b[1;33m(\u001b[0m\u001b[1;33m)\u001b[0m\u001b[1;33m\u001b[0m\u001b[1;33m\u001b[0m\u001b[0m\n\u001b[0m",
      "\u001b[1;31mIndexError\u001b[0m: pop from empty list"
     ]
    }
   ],
   "source": [
    "tmp = []\n",
    "tmp.pop()"
   ]
  },
  {
   "cell_type": "code",
   "execution_count": 3,
   "metadata": {},
   "outputs": [
    {
     "ename": "ValueError",
     "evalue": "invalid literal for int() with base 10: ''",
     "output_type": "error",
     "traceback": [
      "\u001b[1;31m---------------------------------------------------------------------------\u001b[0m",
      "\u001b[1;31mValueError\u001b[0m                                Traceback (most recent call last)",
      "\u001b[1;32m<ipython-input-3-97c304522a10>\u001b[0m in \u001b[0;36m<module>\u001b[1;34m\u001b[0m\n\u001b[0;32m      3\u001b[0m \u001b[0mleft\u001b[0m \u001b[1;33m=\u001b[0m \u001b[0mlist\u001b[0m\u001b[1;33m(\u001b[0m\u001b[0minput\u001b[0m\u001b[1;33m(\u001b[0m\u001b[1;33m)\u001b[0m\u001b[1;33m.\u001b[0m\u001b[0mstrip\u001b[0m\u001b[1;33m(\u001b[0m\u001b[1;33m)\u001b[0m\u001b[1;33m)\u001b[0m\u001b[1;33m\u001b[0m\u001b[1;33m\u001b[0m\u001b[0m\n\u001b[0;32m      4\u001b[0m \u001b[0mright\u001b[0m \u001b[1;33m=\u001b[0m \u001b[1;33m[\u001b[0m\u001b[1;33m]\u001b[0m\u001b[1;33m\u001b[0m\u001b[1;33m\u001b[0m\u001b[0m\n\u001b[1;32m----> 5\u001b[1;33m \u001b[0mm\u001b[0m \u001b[1;33m=\u001b[0m \u001b[0mint\u001b[0m\u001b[1;33m(\u001b[0m\u001b[0minput\u001b[0m\u001b[1;33m(\u001b[0m\u001b[1;33m)\u001b[0m\u001b[1;33m)\u001b[0m\u001b[1;33m\u001b[0m\u001b[1;33m\u001b[0m\u001b[0m\n\u001b[0m\u001b[0;32m      6\u001b[0m \u001b[1;32mfor\u001b[0m \u001b[0m_\u001b[0m \u001b[1;32min\u001b[0m \u001b[0mrange\u001b[0m\u001b[1;33m(\u001b[0m\u001b[0mm\u001b[0m\u001b[1;33m)\u001b[0m\u001b[1;33m:\u001b[0m\u001b[1;33m\u001b[0m\u001b[1;33m\u001b[0m\u001b[0m\n\u001b[0;32m      7\u001b[0m     \u001b[0mline\u001b[0m \u001b[1;33m=\u001b[0m \u001b[0minput\u001b[0m\u001b[1;33m(\u001b[0m\u001b[1;33m)\u001b[0m\u001b[1;33m.\u001b[0m\u001b[0mstrip\u001b[0m\u001b[1;33m(\u001b[0m\u001b[1;33m)\u001b[0m\u001b[1;33m.\u001b[0m\u001b[0msplit\u001b[0m\u001b[1;33m(\u001b[0m\u001b[1;33m)\u001b[0m\u001b[1;33m\u001b[0m\u001b[1;33m\u001b[0m\u001b[0m\n",
      "\u001b[1;31mValueError\u001b[0m: invalid literal for int() with base 10: ''"
     ]
    }
   ],
   "source": [
    "#https://www.acmicpc.net/problem/1406\n",
    "#에디터\n",
    "import sys\n",
    "input = sys.stdin.readline\n",
    "left = list(input().strip())\n",
    "right = []\n",
    "m = int(input())\n",
    "for _ in range(m):\n",
    "    line = input().strip().split()\n",
    "    what = line[0]\n",
    "    if what == 'L':\n",
    "        if left:\n",
    "            right.append(left.pop())\n",
    "    elif what == 'D':\n",
    "        if right:\n",
    "            left.append(right.pop())\n",
    "    elif what == 'P':\n",
    "        left.append(line[1])\n",
    "    elif what == 'B':\n",
    "        if left:\n",
    "            left.pop()\n",
    "left += right[::-1]\n",
    "print(''.join(left))\n"
   ]
  },
  {
   "cell_type": "code",
   "execution_count": 3,
   "metadata": {},
   "outputs": [
    {
     "name": "stdout",
     "output_type": "stream",
     "text": [
      "5\n",
      "push\n",
      "5\n",
      "pop\n",
      "[]\n",
      "pop\n",
      "-1\n",
      "pop\n",
      "-1\n"
     ]
    }
   ],
   "source": [
    "#https://www.acmicpc.net/problem/10845\n",
    "#큐\n",
    "import sys\n",
    "input = sys.stdin.readline\n",
    "st = 0; ed = 0;\n",
    "tc = int(input())\n",
    "queue = [0]*tc\n",
    "\n",
    "for _ in range(tc):\n",
    "    com, *val = input().split()\n",
    "    if com == 'push':\n",
    "        queue[ed] = int(val[0])\n",
    "        ed += 1\n",
    "    elif com == 'pop':\n",
    "        if ed > st:\n",
    "            print(queue[st])\n",
    "            st += 1\n",
    "        else:\n",
    "            print(-1)\n",
    "    elif com == 'size':\n",
    "        print(ed-st)\n",
    "    elif com == 'empty':\n",
    "        if not(ed-st):\n",
    "            print(1)\n",
    "        else:\n",
    "            print(0)\n",
    "    elif com == 'front':\n",
    "        if ed > st:\n",
    "            print(queue[st])\n",
    "        else:\n",
    "            print(-1)\n",
    "    elif com == 'back':\n",
    "        if ed > st:\n",
    "            print(queue[ed-1])\n",
    "        else:\n",
    "            print(-1)"
   ]
  },
  {
   "cell_type": "code",
   "execution_count": null,
   "metadata": {},
   "outputs": [],
   "source": [
    "#https://www.acmicpc.net/problem/1158\n",
    "#요세푸스 문제\n",
    "import sys\n",
    "from collections import deque\n",
    "input = sys.stdin.readline\n",
    "\n",
    "n, k = map(int, input().split())\n",
    "\n",
    "q = deque()\n",
    "\n",
    "for i in range(1, n+1):\n",
    "    q.append(i)\n",
    "\n",
    "ans = []\n",
    "\n",
    "for i in range(n-1):\n",
    "    for j in range(k-1):\n",
    "        q.append(q.popleft())\n",
    "    ans += [q.popleft()]\n",
    "\n",
    "ans += [q[0]]\n",
    "print('<'+', '.join(map(str, ans))+'>')\n"
   ]
  },
  {
   "cell_type": "code",
   "execution_count": 6,
   "metadata": {},
   "outputs": [
    {
     "data": {
      "text/plain": [
       "5"
      ]
     },
     "execution_count": 6,
     "metadata": {},
     "output_type": "execute_result"
    }
   ],
   "source": [
    "#https://www.acmicpc.net/problem/10866\n",
    "#덱\n",
    "import sys\n",
    "from collections import deque\n",
    "input = sys.stdin.readline\n",
    "\n",
    "tc = int(input())\n",
    "\n",
    "deq = deque()\n",
    "\n",
    "for _ in range(tc):\n",
    "    com, *val = input().split()\n",
    "    if com == 'push_back':\n",
    "        deq.append(int(val[0]))\n",
    "    elif com == 'push_front':\n",
    "        deq.appendleft(int(val[0]))\n",
    "    elif com == 'pop_front':\n",
    "        if deq:\n",
    "            print(deq.popleft())\n",
    "        else :\n",
    "            print(-1)\n",
    "    elif com == 'pop_back':\n",
    "        if deq:\n",
    "            print(deq.pop())\n",
    "        else:\n",
    "            print(-1)\n",
    "    elif com == \"size\":\n",
    "        print(len(deq))\n",
    "    elif com == \"empty\":\n",
    "        if deq:\n",
    "            print(0)\n",
    "        else:\n",
    "            print(1)\n",
    "    elif com == 'front':\n",
    "        if deq:\n",
    "            tmp = deq.popleft()\n",
    "            deq.appendleft(tmp)\n",
    "            print(tmp)\n",
    "        else:\n",
    "            print(-1)\n",
    "    elif com == 'back':\n",
    "        if deq:\n",
    "            tmp = deq.pop()\n",
    "            deq.append(tmp)\n",
    "            print(tmp)\n",
    "        else:\n",
    "            print(-1)"
   ]
  },
  {
   "cell_type": "code",
   "execution_count": null,
   "metadata": {},
   "outputs": [],
   "source": [
    "#https://www.acmicpc.net/problem/10799\n",
    "#쇠막대기\n",
    "import sys\n",
    "input = sys.stdin.readline\n",
    "\n",
    "length = 0\n",
    "ans = 0\n",
    "s = input().strip()\n",
    "\n",
    "prev = ''\n",
    "for token in s:\n",
    "    if token == '(':\n",
    "        length += 1\n",
    "    elif token == ')':\n",
    "        if prev == '(':\n",
    "            ans += (length-1)\n",
    "        else:\n",
    "            ans += 1\n",
    "        length -= 1\n",
    "    prev = token\n",
    "print(ans)"
   ]
  },
  {
   "cell_type": "code",
   "execution_count": 3,
   "metadata": {},
   "outputs": [
    {
     "ename": "IndexError",
     "evalue": "list index out of range",
     "output_type": "error",
     "traceback": [
      "\u001b[1;31m---------------------------------------------------------------------------\u001b[0m",
      "\u001b[1;31mIndexError\u001b[0m                                Traceback (most recent call last)",
      "\u001b[1;32m<ipython-input-3-31f70d299a0d>\u001b[0m in \u001b[0;36m<module>\u001b[1;34m\u001b[0m\n\u001b[0;32m      1\u001b[0m \u001b[0mst\u001b[0m \u001b[1;33m=\u001b[0m \u001b[1;33m[\u001b[0m\u001b[1;33m]\u001b[0m\u001b[1;33m\u001b[0m\u001b[1;33m\u001b[0m\u001b[0m\n\u001b[1;32m----> 2\u001b[1;33m \u001b[0mst\u001b[0m\u001b[1;33m[\u001b[0m\u001b[1;33m-\u001b[0m\u001b[1;36m1\u001b[0m\u001b[1;33m]\u001b[0m\u001b[1;33m\u001b[0m\u001b[1;33m\u001b[0m\u001b[0m\n\u001b[0m",
      "\u001b[1;31mIndexError\u001b[0m: list index out of range"
     ]
    }
   ],
   "source": [
    "#https://www.acmicpc.net/problem/17298\n",
    "#오큰수\n",
    "import sys\n",
    "input = sys.stdin.readline\n",
    "\n",
    "\n",
    "n = int(input())\n",
    "st = []\n",
    "ans = [-1]*n\n",
    "\n",
    "ary = list(map(int, input().split()))\n",
    "\n",
    "for i in range(n):\n",
    "    if st:\n",
    "        while ary[i] > ary[st[-1]]:\n",
    "            ans[st.pop()] = ary[i]\n",
    "            if not st:\n",
    "                break\n",
    "        st.append(i)\n",
    "    else:\n",
    "        st.append(i)\n",
    "print(' '.join(map(str, ans)))\n",
    "\n"
   ]
  },
  {
   "cell_type": "code",
   "execution_count": null,
   "metadata": {},
   "outputs": [],
   "source": [
    "#https://www.acmicpc.net/problem/17299\n",
    "#오등큰수\n",
    "import sys\n",
    "input = sys.stdin.readline\n",
    "\n",
    "\n",
    "n = int(input())\n",
    "st = []\n",
    "check = [0]*1000001\n",
    "ans = [-1]*n\n",
    "\n",
    "ary = list(map(int, input().split()))\n",
    "for i in ary:\n",
    "    check[i] += 1\n",
    "\n",
    "for i in range(n):\n",
    "    if st:\n",
    "        while check[ary[i]] > check[ary[st[-1]]]:\n",
    "            ans[st.pop()] = ary[i]\n",
    "            if not st:\n",
    "                break\n",
    "        st.append(i)\n",
    "    else:\n",
    "        st.append(i)\n",
    "print(' '.join(map(str, ans)))\n",
    "\n"
   ]
  },
  {
   "cell_type": "code",
   "execution_count": null,
   "metadata": {},
   "outputs": [],
   "source": [
    "#https://www.acmicpc.net/problem/10430\n",
    "#나머지\n",
    "import sys\n",
    "input = sys.stdin.readline\n",
    "\n",
    "a, b, c = map(int, input().split())\n",
    "print((a+b) % c)\n",
    "print(((a % c)+(b % c)) % c)\n",
    "print((a*b) % c)\n",
    "print(((a % c)*(b % c)) % c)"
   ]
  },
  {
   "cell_type": "code",
   "execution_count": null,
   "metadata": {},
   "outputs": [],
   "source": []
  }
 ],
 "metadata": {
  "kernelspec": {
   "display_name": "Python 3",
   "language": "python",
   "name": "python3"
  },
  "language_info": {
   "codemirror_mode": {
    "name": "ipython",
    "version": 3
   },
   "file_extension": ".py",
   "mimetype": "text/x-python",
   "name": "python",
   "nbconvert_exporter": "python",
   "pygments_lexer": "ipython3",
   "version": "3.7.6"
  }
 },
 "nbformat": 4,
 "nbformat_minor": 4
}
